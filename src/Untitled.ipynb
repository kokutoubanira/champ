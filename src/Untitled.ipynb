{
 "cells": [
  {
   "cell_type": "code",
   "execution_count": 2,
   "metadata": {},
   "outputs": [],
   "source": [
    "from __future__ import print_function\n",
    "\n",
    "import argparse\n",
    "import tqdm\n",
    "import torch\n",
    "import torch.nn as nn\n",
    "import torch.nn.functional as F\n",
    "import torch.optim as optim\n",
    "from torchvision import datasets, transforms\n",
    "from torch.optim.lr_scheduler import StepLR\n",
    "import numpy as np\n",
    "import torchvision\n",
    "import torchvision.transforms as transforms\n",
    "from torchvision.datasets import QMNIST\n",
    "# from tqdm import tqdm_notebook as tqdm"
   ]
  },
  {
   "cell_type": "code",
   "execution_count": 38,
   "metadata": {},
   "outputs": [],
   "source": [
    "import time\n",
    "import math\n",
    "from statistics import median, mean, stdev\n",
    "from datetime import timedelta\n",
    "from contextlib import ContextDecorator\n",
    "def benchmark(niter=1, duration=None, batch_size=1):\n",
    "    \n",
    "    if duration is not None:\n",
    "        if not isinstance(duration, (int, float, timedelta)):\n",
    "            raise TypeError(f\"'duration' must be int, float or timedelta, not '{type(duration).__name__}'.\")\n",
    "        if isinstance(duration, timedelta):\n",
    "            duration = duration.total_seconds()\n",
    "    def decorator(func):\n",
    "        def wrapped(*args, **kwargs):\n",
    "            start_time = time.perf_counter()\n",
    "            exec_time = 0\n",
    "            iteration = 0\n",
    "            \n",
    "            bench = Benchmark(batch_size=batch_size)\n",
    "            while (niter and iteration < niter) or (duration and exec_time < duration):\n",
    "                with bench:\n",
    "                    func(*args, **kwargs)\n",
    "                iteration += 1\n",
    "                exec_time = (time.perf_counter() - start_time)\n",
    "                \n",
    "            print(bench)\n",
    "            \n",
    "        return wrapped\n",
    "    return decorator\n",
    "class Benchmark(ContextDecorator):\n",
    "    \n",
    "    def __init__(self, out=False, batch_size=1):\n",
    "        self.start_time = None\n",
    "        self.lap_time = None\n",
    "        self.end_time = None\n",
    "        self.times = []\n",
    "        self.batch_size = batch_size\n",
    "        self.out = out\n",
    "    \n",
    "    @property\n",
    "    def duration(self):\n",
    "        if self.end_time:\n",
    "            return timedelta(seconds=(self.end_time - self.start_time))\n",
    "        else:\n",
    "            return timedelta()\n",
    "    \n",
    "    def __str__(self):\n",
    "        if len(self.times) == 0:\n",
    "            return super().__str__()\n",
    "        \n",
    "        iteration = len(self.times)\n",
    "        total_duration = self.duration\n",
    "        \n",
    "        if iteration > 1:\n",
    "            latency_s    = median(self.times)\n",
    "            latency_mean = mean(self.times)\n",
    "            latency_std  = stdev(self.times)\n",
    "        else:\n",
    "            latency_s    = latency_mean = self.times[0]\n",
    "            latency_std  = 0.0\n",
    "            \n",
    "        fps = self.batch_size * 1 / latency_s\n",
    "        \n",
    "        output = [\n",
    "            f\"Count:      {iteration:,} iteration(s)\",\n",
    "            f\"Duration:   {total_duration}\",\n",
    "            f\"Latency:    {_format_time(latency_s)} ({_format_time(latency_mean)} ± {_format_time(latency_std)})\", \n",
    "            f\"Throughput: {fps:.2f} FPS\",\n",
    "        ]\n",
    "        return str.join('\\n', output)\n",
    "    \n",
    "    def __enter__(self):\n",
    "        if self.lap_time:\n",
    "            raise RuntimeError(\"Nested transactions are not supported.\")\n",
    "        \n",
    "        t = time.perf_counter()\n",
    "        if not self.start_time:\n",
    "            self.start_time = t\n",
    "        self.lap_time = t\n",
    "        return self\n",
    "    def __exit__(self, *exc):\n",
    "        t = time.perf_counter()\n",
    "        self.end_time = t\n",
    "        \n",
    "        elapsed = (t - self.lap_time)\n",
    "        self.lap_time = None\n",
    "        self.times.append(elapsed)\n",
    "        \n",
    "        if self.out:\n",
    "            print(self)\n",
    "        \n",
    "        return False\n",
    "\n",
    "def _format_time(timespan, precision=2):\n",
    "    import math\n",
    "\n",
    "    if isinstance(timespan, timedelta):\n",
    "        timespan = timespan.total_seconds()\n",
    "\n",
    "    if timespan >= 60.0:\n",
    "        # Idea from http://snipplr.com/view/5713/\n",
    "        parts = [(\"days\", 3600*24), (\"h\", 3600), (\"m\", 60), (\"s\", 1)]\n",
    "        time = []\n",
    "        leftover = timespan\n",
    "        for (suffix, length) in parts:\n",
    "            value = int(leftover / length)\n",
    "            if value > 0:\n",
    "                leftover = leftover % length\n",
    "                time.append(f\"{value} {suffix}\")\n",
    "            if leftover < 1:\n",
    "                break\n",
    "        return \" \".join(time)\n",
    "\n",
    "    units = [\"s\", \"ms\", \"us\",\"ns\"]\n",
    "    scale = [1, 1e3, 1e6, 1e9]\n",
    "    order = min(-int(math.floor(math.log10(timespan)) // 3), 3) if timespan > 0.0 else 3\n",
    "\n",
    "    return \"%.*f %s\" % (precision, timespan * scale[order], units[order])\n"
   ]
  },
  {
   "cell_type": "code",
   "execution_count": 4,
   "metadata": {},
   "outputs": [],
   "source": [
    "class Net(nn.Module):\n",
    "    def __init__(self):\n",
    "        super(Net, self).__init__()\n",
    "\n",
    "        self.cnn1 = nn.Sequential(\n",
    "            nn.Conv2d(1,32, kernel_size=(3, 3)),\n",
    "            nn.ReLU(),\n",
    "            nn.Conv2d(32,32, kernel_size=(3, 3)),\n",
    "            nn.ReLU(),\n",
    "            nn.MaxPool2d(kernel_size=(2, 2), stride=2),\n",
    "            nn.Dropout2d(p=0.20)\n",
    "            )\n",
    "\n",
    "        self.cnn2 = nn.Sequential(\n",
    "            nn.Conv2d(32,64, kernel_size=(3, 3)),\n",
    "            nn.ReLU(),\n",
    "            nn.Conv2d(64,64, kernel_size=(3, 3)),\n",
    "            nn.ReLU(),\n",
    "            nn.MaxPool2d(kernel_size=(2,2), stride=2),\n",
    "            nn.Dropout2d(0.25)\n",
    "        )\n",
    "\n",
    "        self.cnn3 = nn.Sequential(\n",
    "            nn.Conv2d(64, 128, kernel_size=(3, 3)),\n",
    "            nn.ReLU(),\n",
    "            nn.Dropout2d(p=0.25),\n",
    "        )\n",
    "\n",
    "        self.fc = nn.Sequential(\n",
    "            #全結合層\n",
    "            nn.Linear(512, 128),\n",
    "            nn.BatchNorm1d(128),\n",
    "            nn.Dropout(p=0.25),\n",
    "            nn.Linear(128, 10)\n",
    "        )\n",
    " \n",
    "\n",
    "    def forward(self, x):  \n",
    "\n",
    "        out = self.cnn1(x)\n",
    "        out = self.cnn2(out)\n",
    "        out = self.cnn3(out)\n",
    "        out = out.view(out.size()[0], -1)\n",
    "        out = self.fc(out)\n",
    "        out = F.softmax(out, dim = 1)\n",
    "        return out\n"
   ]
  },
  {
   "cell_type": "code",
   "execution_count": 5,
   "metadata": {},
   "outputs": [],
   "source": [
    "def train_model(net, dataloders_dict, criterion, optimizer, num_epochs):\n",
    "    \n",
    "    train_loss_list = []\n",
    "    train_acc_list = []\n",
    "    val_loss_list = []\n",
    "    val_acc_list = []\n",
    "\n",
    "    #初期設定\n",
    "    #GPUが使えるか確認\n",
    "    device = torch.device(\"cuda:0\" if torch.cuda.is_available() else \"cpu\")\n",
    "    print(\"使用デバイス\", device)\n",
    "    #モデルをGPUへ\n",
    "    net.to(device)\n",
    "    #ネットワークがある程度固定であれば高速化させる\n",
    "    torch.backends.cudnn.benchmark = True\n",
    "    #epochのループ\n",
    "    for epoch in range(num_epochs):\n",
    "        print('Epoch {}/{}'.format(epoch+1, num_epochs))\n",
    "        print('-----------------------------------')\n",
    "\n",
    "        #epochごとの学習と検証のループ\n",
    "        for phase in ['train', 'val']:\n",
    "            if phase == 'train':\n",
    "                net.train() #モデルを訓練モードに\n",
    "            else:\n",
    "                net.eval() #モデルを検証モードに\n",
    "            epoch_loss = 0.0 #epochの損失0\n",
    "            epoch_corrects = 0 #epochの正解数\n",
    "            #データローダーからミニバッチを取り出すループ\n",
    "            for inputs, labels in tqdm.tqdm(dataloders_dict[phase]):\n",
    "                #optimizerを初期化\n",
    "                optimizer.zero_grad()\n",
    "                #順伝搬(forward)計算\n",
    "                with torch.set_grad_enabled(phase == 'train'):\n",
    "                    inputs = inputs.to(device)\n",
    "                    labels = labels.to(device)\n",
    "                    outputs = net(inputs)\n",
    "                    loss = criterion(outputs, labels)#損失を計算\n",
    "                    _, preds = torch.max(outputs, 1) #ラベルを予測\n",
    "                    #訓練時はバックプロパゲーション\n",
    "                    if phase == 'train':\n",
    "                        loss.backward()\n",
    "                        optimizer.step()\n",
    "                    #イテレーション結果の計算\n",
    "                    #lossの合計を更新\n",
    "                    epoch_loss += loss.item() * inputs.size(0)\n",
    "                    #正解の合計数を更新\n",
    "                    epoch_corrects += torch.sum(preds == labels.data)\n",
    "            #epochごとのlossと正解率を表示\n",
    "            epoch_loss = epoch_loss / len(dataloders_dict[phase].dataset)\n",
    "            epoch_acc = epoch_corrects.double() / len(dataloders_dict[phase].dataset)\n",
    "            print('{} Loss:{:.4f} Acc: {:.4f}'.format(phase, epoch_loss,epoch_acc))\n",
    "            if phase == 'train':\n",
    "                train_acc_list.append(epoch_acc)\n",
    "                train_loss_list.append(epoch_loss)\n",
    "            else:\n",
    "                val_acc_list.append(epoch_acc)\n",
    "                val_loss_list.append(epoch_loss)\n",
    "    return val_loss_list,train_loss_list, val_acc_list, train_acc_list"
   ]
  },
  {
   "cell_type": "code",
   "execution_count": 6,
   "metadata": {},
   "outputs": [],
   "source": [
    "import torch\n",
    "import torch.nn as nn\n",
    "import torch.utils.data as data\n",
    "import torchvision\n",
    "from torchvision import transforms\n",
    "from PIL import Image\n",
    "\n",
    "import os.path as osp\n",
    "import glob\n",
    "\n",
    "\n",
    "#入力画像の処理を行う\n",
    "#訓練時と推論時で処理が異なる\n",
    "\n",
    "class ImageTransform():\n",
    "\n",
    "    def __init__(self, resize):\n",
    "        self.data_transform = {\n",
    "            'train': transforms.Compose([\n",
    "                transforms.Resize(resize), #リサイズ\n",
    "                # transforms.RandomRotation(degrees=20), #ランダムに回転\n",
    "                transforms.ToTensor(), #テンソルに変換\n",
    "            ]),\n",
    "            'val': transforms.Compose([\n",
    "                transforms.Resize(resize), #リサイズ\n",
    "                transforms.ToTensor(), #テンソルに変換\n",
    "            ])\n",
    "        }\n",
    "\n",
    "    def __call__(self, img, phase='train'):\n",
    "        \"\"\"\n",
    "        pahes:'train' or 'val'\n",
    "        \"\"\"\n",
    "        return self.data_transform[phase](img)\n",
    "\n",
    "class testDataset(data.Dataset):\n",
    "    '''\n",
    "    file_list : リスト\n",
    "        画像パス\n",
    "    transform: object\n",
    "        前処理クラスのインスタンス\n",
    "    phase : 学習化テストか設定する\n",
    "    '''\n",
    "    def __init__(self,transform=None, phase='val'):\n",
    "\n",
    "        self.transform = transforms.Compose([\n",
    "                        transforms.Resize(32),\n",
    "                        transforms.CenterCrop(28),\n",
    "                         transforms.ToTensor(),\n",
    "                         transforms.Normalize((0.5, ), (0.5, ))\n",
    "                         ])\n",
    "        self.phase = phase#train or val の指定\n",
    "\n",
    "        rootpath = \"../訓練用画像/tranings/\"\n",
    "        target_path = osp.join(rootpath+'**/*.png')\n",
    "    \n",
    "        path_list = []\n",
    "\n",
    "        for path in glob.glob(target_path):\n",
    "            path_list.append(path)\n",
    "\n",
    "        self.file_list = path_list\n",
    "\n",
    "    def __len__(self):\n",
    "        #画像の枚数を返す\n",
    "        return len(self.file_list)\n",
    "    \n",
    "    def __getitem__(self, index):\n",
    "        '''\n",
    "        前処理をした画像のTensor形式のデータとラベルの取得\n",
    "        '''\n",
    "        #index番目の画像をロード\n",
    "        img_path = self.file_list[index]\n",
    "        label = img_path[18]\n",
    "\n",
    "        img = Image.open(img_path).convert('RGBA')\n",
    "        r, g, b, a = img.split()\n",
    "        img = np.asarray(a)\n",
    "        img = Image.fromarray(img)\n",
    "        \n",
    "        img_transformed = self.transform(\n",
    "            img\n",
    "        )\n",
    "\n",
    "        label = torch.tensor(int(label), dtype=torch.int64)\n",
    "        \n",
    "        return img_transformed, label"
   ]
  },
  {
   "cell_type": "code",
   "execution_count": 27,
   "metadata": {},
   "outputs": [
    {
     "name": "stderr",
     "output_type": "stream",
     "text": [
      "  0%|                                                                                           | 0/59 [00:00<?, ?it/s]"
     ]
    },
    {
     "name": "stdout",
     "output_type": "stream",
     "text": [
      "使用デバイス cuda:0\n",
      "Epoch 1/1\n",
      "-----------------------------------\n"
     ]
    },
    {
     "name": "stderr",
     "output_type": "stream",
     "text": [
      "100%|██████████████████████████████████████████████████████████████████████████████████| 59/59 [00:28<00:00,  2.08it/s]\n",
      "  0%|                                                                                            | 0/1 [00:00<?, ?it/s]"
     ]
    },
    {
     "name": "stdout",
     "output_type": "stream",
     "text": [
      "train Loss:1.4658 Acc: 0.9957\n"
     ]
    },
    {
     "name": "stderr",
     "output_type": "stream",
     "text": [
      "100%|████████████████████████████████████████████████████████████████████████████████████| 1/1 [00:00<00:00,  1.84it/s]"
     ]
    },
    {
     "name": "stdout",
     "output_type": "stream",
     "text": [
      "val Loss:1.5206 Acc: 0.9440\n"
     ]
    },
    {
     "name": "stderr",
     "output_type": "stream",
     "text": [
      "\n"
     ]
    }
   ],
   "source": [
    "import random\n",
    "seed = 42\n",
    "random.seed(seed)  \n",
    "np.random.seed(seed)  \n",
    "# PyTorch のRNGを初期化  \n",
    "torch.manual_seed(seed)\n",
    "\n",
    "import tensorflow as tf\n",
    "import torch.utils.data as data\n",
    "from torch.utils.data import DataLoader\n",
    "\n",
    "\n",
    "import albumentations as albu\n",
    "\n",
    "def augment(aug, image):\n",
    "    return aug(image=image)['image']\n",
    "\n",
    "def ElTransform(img):\n",
    "    \"\"\"\n",
    "    画像をゆがませる\n",
    "    \"\"\"\n",
    "    img = np.array(img)\n",
    "    aug = albu.ElasticTransform(alpha=0.5, sigma=0, alpha_affine=0, interpolation=1, border_mode=2, p=0.5)\n",
    "    img = augment(aug, np.array(img))\n",
    "    img = Image.fromarray(img)\n",
    "    return img\n",
    "\n",
    "\n",
    "rotation_range=10\n",
    "zoom_range = 0.10\n",
    "width_shift_range=0.1 \n",
    "height_shift_range=0.1\n",
    "train_transform = transforms.Compose([\n",
    "     transforms.Resize(32),\n",
    "     transforms.CenterCrop(28),\n",
    "     transforms.Lambda(ElTransform),\n",
    "     transforms.RandomAffine(degrees=rotation_range, translate=(width_shift_range, height_shift_range), \n",
    "    scale=(1 - zoom_range, 1 + zoom_range)),\n",
    "     transforms.ToTensor(),\n",
    "     transforms.Normalize((0.5, ), (0.5, ))\n",
    "     ])\n",
    "# test_transform = transforms.Compose([\n",
    "#     transforms.Resize(32)\n",
    "#      transforms.CenterCrop(28),\n",
    "#      transforms.ToTensor(),\n",
    "#      transforms.Normalize((0.5, ), (0.5, ))\n",
    "#      ])\n",
    "\n",
    "\n",
    "trainset = QMNIST(root='./',\n",
    "                 train=True,\n",
    "                 download=True,\n",
    "                 transform=train_transform)\n",
    "\n",
    "\n",
    "trainloader = DataLoader(trainset,\n",
    "                         batch_size=1024,\n",
    "                         shuffle=True,\n",
    "                         num_workers=0)\n",
    "testloader =  torch.utils.data.DataLoader(testDataset(), batch_size = 1000, shuffle=False)\n",
    "\n",
    "dataloders_dict = {\"train\": trainloader, \"val\": testloader}\n",
    "\n",
    "model = Net()\n",
    "model.load_state_dict(torch.load(\"./mnist_cnn.pth\"))\n",
    "\n",
    "criterion = nn.CrossEntropyLoss()\n",
    "optimizer = optim.Adam(model.parameters(), lr=0.00003)\n",
    "\n",
    "val_loss, train_loss, val_acc, train_acc = train_model(model, dataloders_dict, criterion, optimizer, num_epochs=1)\n"
   ]
  },
  {
   "cell_type": "code",
   "execution_count": 61,
   "metadata": {},
   "outputs": [],
   "source": [
    "torch.save(model.state_dict(), \"mnist_cnn.pth\")"
   ]
  },
  {
   "cell_type": "markdown",
   "metadata": {},
   "source": [
    "# 検証"
   ]
  },
  {
   "cell_type": "code",
   "execution_count": 54,
   "metadata": {},
   "outputs": [
    {
     "data": {
      "text/plain": [
       "Net(\n",
       "  (cnn1): Sequential(\n",
       "    (0): Conv2d(1, 32, kernel_size=(3, 3), stride=(1, 1))\n",
       "    (1): ReLU()\n",
       "    (2): Conv2d(32, 32, kernel_size=(3, 3), stride=(1, 1))\n",
       "    (3): ReLU()\n",
       "    (4): MaxPool2d(kernel_size=(2, 2), stride=2, padding=0, dilation=1, ceil_mode=False)\n",
       "    (5): Dropout2d(p=0.2, inplace=False)\n",
       "  )\n",
       "  (cnn2): Sequential(\n",
       "    (0): Conv2d(32, 64, kernel_size=(3, 3), stride=(1, 1))\n",
       "    (1): ReLU()\n",
       "    (2): Conv2d(64, 64, kernel_size=(3, 3), stride=(1, 1))\n",
       "    (3): ReLU()\n",
       "    (4): MaxPool2d(kernel_size=(2, 2), stride=2, padding=0, dilation=1, ceil_mode=False)\n",
       "    (5): Dropout2d(p=0.25, inplace=False)\n",
       "  )\n",
       "  (cnn3): Sequential(\n",
       "    (0): Conv2d(64, 128, kernel_size=(3, 3), stride=(1, 1))\n",
       "    (1): ReLU()\n",
       "    (2): Dropout2d(p=0.25, inplace=False)\n",
       "  )\n",
       "  (fc): Sequential(\n",
       "    (0): Linear(in_features=512, out_features=128, bias=True)\n",
       "    (1): BatchNorm1d(128, eps=1e-05, momentum=0.1, affine=True, track_running_stats=True)\n",
       "    (2): Dropout(p=0.25, inplace=False)\n",
       "    (3): Linear(in_features=128, out_features=10, bias=True)\n",
       "  )\n",
       ")"
      ]
     },
     "execution_count": 54,
     "metadata": {},
     "output_type": "execute_result"
    }
   ],
   "source": [
    "model = Net()\n",
    "model.load_state_dict(torch.load(\"./mnist_cnn.pth\"))\n",
    "model.to('cuda')"
   ]
  },
  {
   "cell_type": "code",
   "execution_count": 55,
   "metadata": {},
   "outputs": [
    {
     "data": {
      "text/plain": [
       "Net(\n",
       "  (cnn1): Sequential(\n",
       "    (0): Conv2d(1, 32, kernel_size=(3, 3), stride=(1, 1))\n",
       "    (1): ReLU()\n",
       "    (2): Conv2d(32, 32, kernel_size=(3, 3), stride=(1, 1))\n",
       "    (3): ReLU()\n",
       "    (4): MaxPool2d(kernel_size=(2, 2), stride=2, padding=0, dilation=1, ceil_mode=False)\n",
       "    (5): Dropout2d(p=0.2, inplace=False)\n",
       "  )\n",
       "  (cnn2): Sequential(\n",
       "    (0): Conv2d(32, 64, kernel_size=(3, 3), stride=(1, 1))\n",
       "    (1): ReLU()\n",
       "    (2): Conv2d(64, 64, kernel_size=(3, 3), stride=(1, 1))\n",
       "    (3): ReLU()\n",
       "    (4): MaxPool2d(kernel_size=(2, 2), stride=2, padding=0, dilation=1, ceil_mode=False)\n",
       "    (5): Dropout2d(p=0.25, inplace=False)\n",
       "  )\n",
       "  (cnn3): Sequential(\n",
       "    (0): Conv2d(64, 128, kernel_size=(3, 3), stride=(1, 1))\n",
       "    (1): ReLU()\n",
       "    (2): Dropout2d(p=0.25, inplace=False)\n",
       "  )\n",
       "  (fc): Sequential(\n",
       "    (0): Linear(in_features=512, out_features=128, bias=True)\n",
       "    (1): BatchNorm1d(128, eps=1e-05, momentum=0.1, affine=True, track_running_stats=True)\n",
       "    (2): Dropout(p=0.25, inplace=False)\n",
       "    (3): Linear(in_features=128, out_features=10, bias=True)\n",
       "  )\n",
       ")"
      ]
     },
     "execution_count": 55,
     "metadata": {},
     "output_type": "execute_result"
    }
   ],
   "source": [
    "model.eval()"
   ]
  },
  {
   "cell_type": "code",
   "execution_count": 30,
   "metadata": {},
   "outputs": [
    {
     "name": "stdout",
     "output_type": "stream",
     "text": [
      "tensor(946)\n"
     ]
    }
   ],
   "source": [
    "class valDataset(data.Dataset):\n",
    "    def __init__(self):\n",
    "        path = \"../訓練用画像/tests/\"\n",
    "        self.label_dict = []\n",
    "        with open('../訓練用画像/tests.txt') as f:\n",
    "            for line in f:\n",
    "                line = line.replace(\"\\n\", \"\")\n",
    "                name, label = line.split(\"/\")\n",
    "                self.label_dict.append((\"../訓練用画像/tests/\" + name, int(label)))\n",
    "        self.transform = transforms.Compose([\n",
    "                        transforms.Resize(32),\n",
    "                        transforms.CenterCrop(28),\n",
    "                         transforms.ToTensor(),\n",
    "                         transforms.Normalize((0.5, ), (0.5, ))\n",
    "                         ])\n",
    "    def __len__(self):\n",
    "        #画像の枚数を返す\n",
    "        return len(self.label_dict)\n",
    "    \n",
    "    def __getitem__(self, index):\n",
    "        img_path, label = self.label_dict[index]\n",
    "        \n",
    "        img = Image.open(img_path).convert('RGBA')\n",
    "        r, g, b, a = img.split()\n",
    "        img = np.asarray(a)\n",
    "        img = Image.fromarray(img)\n",
    "        \n",
    "        img_transformed = self.transform(\n",
    "            img\n",
    "        )\n",
    "\n",
    "        label = torch.tensor(int(label), dtype=torch.int64)\n",
    "        \n",
    "        return img_transformed, label\n",
    "testloader =  torch.utils.data.DataLoader(testDataset(), batch_size = 1000, shuffle=False)\n",
    "# testloader =  torch.utils.data.DataLoader(valDataset(), batch_size = 100, shuffle=False)\n",
    "pred = []\n",
    "label = []\n",
    "for i, l in testloader:\n",
    "    i = i.to('cuda')\n",
    "    output = model(i)\n",
    "    _, predicted = torch.max(output.data, 1)\n",
    "    print(torch.sum(predicted.to('cpu') == l.data))\n",
    "    pred.append(predicted)\n",
    "    label.append(l)"
   ]
  },
  {
   "cell_type": "code",
   "execution_count": 31,
   "metadata": {},
   "outputs": [],
   "source": [
    "# label[0].to('cpu').numpy()\n",
    "# pred[0].to('cpu').numpy()"
   ]
  },
  {
   "cell_type": "markdown",
   "metadata": {},
   "source": [
    "# コンフュージョンマトリックス"
   ]
  },
  {
   "cell_type": "code",
   "execution_count": 32,
   "metadata": {},
   "outputs": [],
   "source": [
    "from sklearn.metrics import confusion_matrix\n",
    "import seaborn as sn\n",
    "import numpy as np\n",
    "import matplotlib.pyplot as plt\n",
    "from sklearn.metrics import plot_confusion_matrix\n",
    "import pandas as pd"
   ]
  },
  {
   "cell_type": "code",
   "execution_count": 33,
   "metadata": {},
   "outputs": [
    {
     "data": {
      "text/plain": [
       "<matplotlib.axes._subplots.AxesSubplot at 0x1acf386cf48>"
      ]
     },
     "execution_count": 33,
     "metadata": {},
     "output_type": "execute_result"
    },
    {
     "data": {
      "image/png": "[encoded data removed]",
      "text/plain": [
       "<Figure size 720x504 with 2 Axes>"
      ]
     },
     "metadata": {
      "needs_background": "light"
     },
     "output_type": "display_data"
    }
   ],
   "source": [
    "testloader =  torch.utils.data.DataLoader(valDataset(), batch_size = 100, shuffle=False)\n",
    "pred = []\n",
    "label = []\n",
    "for i, l in testloader:\n",
    "    i = i.to('cuda')\n",
    "    output = model(i)\n",
    "    _, predicted = torch.max(output.data, 1)\n",
    "    pred.append(predicted)\n",
    "    label.append(l)\n",
    "confusion = confusion_matrix(label[0].to('cpu').numpy(), pred[0].to('cpu').numpy())\n",
    "df_cm = pd.DataFrame(confusion,index = [i for i in \"0123456789\"],\n",
    "                  columns = [i for i in \"0123456789\"])\n",
    "plt.figure(figsize = (10,7))\n",
    "sn.heatmap(df_cm, annot=True)"
   ]
  },
  {
   "cell_type": "code",
   "execution_count": 34,
   "metadata": {},
   "outputs": [
    {
     "name": "stdout",
     "output_type": "stream",
     "text": [
      "tensor(946)\n"
     ]
    },
    {
     "data": {
      "text/plain": [
       "<matplotlib.axes._subplots.AxesSubplot at 0x1acf54f3fc8>"
      ]
     },
     "execution_count": 34,
     "metadata": {},
     "output_type": "execute_result"
    },
    {
     "data": {
      "image/png": "[encoded data removed]",
      "text/plain": [
       "<Figure size 720x504 with 2 Axes>"
      ]
     },
     "metadata": {
      "needs_background": "light"
     },
     "output_type": "display_data"
    }
   ],
   "source": [
    "testloader =  torch.utils.data.DataLoader(testDataset(), batch_size = 1000, shuffle=False)\n",
    "\n",
    "pred = []\n",
    "label = []\n",
    "for i, l in testloader:\n",
    "    i = i.to('cuda')\n",
    "    output = model(i)\n",
    "    _, predicted = torch.max(output.data, 1)\n",
    "    pred.append(predicted)\n",
    "    print(torch.sum(predicted.to('cpu') == l.data))\n",
    "    label.append(l)\n",
    "confusion = confusion_matrix(label[0].to('cpu').numpy(), pred[0].to('cpu').numpy())\n",
    "df_cm = pd.DataFrame(confusion,index = [i for i in \"0123456789\"],\n",
    "                  columns = [i for i in \"0123456789\"])\n",
    "plt.figure(figsize = (10,7))\n",
    "sn.heatmap(df_cm, annot=True)"
   ]
  },
  {
   "cell_type": "markdown",
   "metadata": {},
   "source": [
    "# ベンチマーク"
   ]
  },
  {
   "cell_type": "code",
   "execution_count": 57,
   "metadata": {},
   "outputs": [
    {
     "name": "stdout",
     "output_type": "stream",
     "text": [
      "Count:      100 iteration(s)\n",
      "Duration:   0:00:00.176807\n",
      "Latency:    1.12 ms (1.14 ms ± 132.06 us)\n",
      "Throughput: 892.14 FPS\n"
     ]
    }
   ],
   "source": [
    "#import Benchmark\n",
    "\n",
    "testloader =  torch.utils.data.DataLoader(testDataset(), batch_size = 1, shuffle=False)\n",
    "testloader =  torch.utils.data.DataLoader(valDataset(), batch_size = 1, shuffle=False)\n",
    "pred = []\n",
    "label = []\n",
    "model.to(\"cpu\")\n",
    "# @benchmark(duration=5)\n",
    "# def test():\n",
    "#     with torch.no_grad():\n",
    "#         for i, l in testloader:\n",
    "#             output = model(i)\n",
    "\n",
    "\n",
    "def test():\n",
    "    with torch.no_grad():\n",
    "        bm = Benchmark(out=False)\n",
    "        for i, l in testloader:\n",
    "            with bm:\n",
    "                output = model(i)\n",
    "    print(bm)\n",
    "test()"
   ]
  },
  {
   "cell_type": "markdown",
   "metadata": {},
   "source": [
    "# ONNX　export"
   ]
  },
  {
   "cell_type": "code",
   "execution_count": 143,
   "metadata": {},
   "outputs": [],
   "source": [
    "from torch.autograd import Variable\n",
    "import torch.onnx\n",
    "\n",
    "model = Net()\n",
    "model.load_state_dict(torch.load(\"./mnist_cnn.pth\"))\n",
    "model.to('cpu')\n",
    "x = Variable(torch.randn(1, 1, 28, 28))\n",
    "torch.onnx.export(model, x, './m.onnx', export_params=True , dynamic_axes={'input': {0: 'sequence1'}, 'output': {0: 'sequence2'}})"
   ]
  },
  {
   "cell_type": "markdown",
   "metadata": {},
   "source": [
    "# ONNX predict"
   ]
  },
  {
   "cell_type": "code",
   "execution_count": 40,
   "metadata": {},
   "outputs": [],
   "source": [
    "import onnx\n",
    "transform = transforms.Compose([\n",
    "                        transforms.Resize(32),\n",
    "                        transforms.CenterCrop(28),\n",
    "                         transforms.ToTensor(),\n",
    "                         transforms.Normalize((0.5, ), (0.5, ))\n",
    "                         ])\n",
    "model = onnx.load('./mnist.onnx')\n",
    "img_list = []\n",
    "label_list = []\n",
    "with open('../訓練用画像/tests.txt') as f:\n",
    "    for line in f:\n",
    "        line = line.replace(\"\\n\", \"\")\n",
    "        name, label = line.split(\"/\")\n",
    "        img = Image.open(\"../訓練用画像/tests/\" + name).convert('RGBA')\n",
    "        r, g, b, a = img.split()\n",
    "        \n",
    "        img = np.asarray(a)\n",
    "        img = Image.fromarray(img)\n",
    "        img = transform(img)\n",
    "        img = img.numpy()\n",
    "        img_list.append(img)\n",
    "        label_list.append(int(label))\n",
    "\n"
   ]
  },
  {
   "cell_type": "code",
   "execution_count": 41,
   "metadata": {},
   "outputs": [
    {
     "data": {
      "text/plain": [
       "(100, 1, 28, 28)"
      ]
     },
     "execution_count": 41,
     "metadata": {},
     "output_type": "execute_result"
    }
   ],
   "source": [
    "np.array(img_list).astype(\"float32\").shape"
   ]
  },
  {
   "cell_type": "code",
   "execution_count": 42,
   "metadata": {},
   "outputs": [],
   "source": [
    "import onnxruntime"
   ]
  },
  {
   "cell_type": "code",
   "execution_count": 43,
   "metadata": {},
   "outputs": [
    {
     "name": "stdout",
     "output_type": "stream",
     "text": [
      "input:\n",
      "input.1 [1, 1, 28, 28]\n",
      "output:\n",
      "43 [1, 10]\n"
     ]
    }
   ],
   "source": [
    "session = onnxruntime.InferenceSession(\"./m.onnx\")\n",
    "# 入力のラベル名の確認\n",
    "print(\"input:\")\n",
    "for session_input in session.get_inputs():\n",
    "    print(session_input.name, session_input.shape)\n",
    "# 出力のラベル名の確認\n",
    "print(\"output:\")\n",
    "for session_output in session.get_outputs():\n",
    "    print(session_output.name, session_output.shape)"
   ]
  },
  {
   "cell_type": "code",
   "execution_count": 44,
   "metadata": {},
   "outputs": [],
   "source": [
    "pred = []\n",
    "\n",
    "for i in np.array(img_list).astype(\"float32\"):\n",
    "    i = i[None, ...]\n",
    "    pre = session.run([session_output.name], {session_input.name: i})\n",
    "    pre = torch.tensor(pre[0], dtype=torch.float32)\n",
    "    _, out = torch.max(pre, 1)\n",
    "    pred.append(out.item())"
   ]
  },
  {
   "cell_type": "code",
   "execution_count": 45,
   "metadata": {},
   "outputs": [
    {
     "ename": "InvalidArgument",
     "evalue": "[ONNXRuntimeError] : 2 : INVALID_ARGUMENT : Got invalid dimensions for input: input.1 for the following indices\n index: 0 Got: 100 Expected: 1\n Please fix either the inputs or the model.",
     "output_type": "error",
     "traceback": [
      "\u001b[1;31m---------------------------------------------------------------------------\u001b[0m",
      "\u001b[1;31mInvalidArgument\u001b[0m                           Traceback (most recent call last)",
      "\u001b[1;32m<ipython-input-45-0975d1ea7f7c>\u001b[0m in \u001b[0;36m<module>\u001b[1;34m\u001b[0m\n\u001b[1;32m----> 1\u001b[1;33m \u001b[0msession\u001b[0m\u001b[1;33m.\u001b[0m\u001b[0mrun\u001b[0m\u001b[1;33m(\u001b[0m\u001b[1;33m[\u001b[0m\u001b[0msession_output\u001b[0m\u001b[1;33m.\u001b[0m\u001b[0mname\u001b[0m\u001b[1;33m]\u001b[0m\u001b[1;33m,\u001b[0m \u001b[1;33m{\u001b[0m\u001b[0msession_input\u001b[0m\u001b[1;33m.\u001b[0m\u001b[0mname\u001b[0m\u001b[1;33m:\u001b[0m \u001b[0mnp\u001b[0m\u001b[1;33m.\u001b[0m\u001b[0marray\u001b[0m\u001b[1;33m(\u001b[0m\u001b[0mimg_list\u001b[0m\u001b[1;33m)\u001b[0m\u001b[1;33m.\u001b[0m\u001b[0mastype\u001b[0m\u001b[1;33m(\u001b[0m\u001b[1;34m\"float32\"\u001b[0m\u001b[1;33m)\u001b[0m\u001b[1;33m}\u001b[0m\u001b[1;33m)\u001b[0m\u001b[1;33m\u001b[0m\u001b[1;33m\u001b[0m\u001b[0m\n\u001b[0m",
      "\u001b[1;32mC:\\Anaconda3\\lib\\site-packages\\onnxruntime\\capi\\session.py\u001b[0m in \u001b[0;36mrun\u001b[1;34m(self, output_names, input_feed, run_options)\u001b[0m\n\u001b[0;32m    109\u001b[0m             \u001b[0moutput_names\u001b[0m \u001b[1;33m=\u001b[0m \u001b[1;33m[\u001b[0m\u001b[0moutput\u001b[0m\u001b[1;33m.\u001b[0m\u001b[0mname\u001b[0m \u001b[1;32mfor\u001b[0m \u001b[0moutput\u001b[0m \u001b[1;32min\u001b[0m \u001b[0mself\u001b[0m\u001b[1;33m.\u001b[0m\u001b[0m_outputs_meta\u001b[0m\u001b[1;33m]\u001b[0m\u001b[1;33m\u001b[0m\u001b[1;33m\u001b[0m\u001b[0m\n\u001b[0;32m    110\u001b[0m         \u001b[1;32mtry\u001b[0m\u001b[1;33m:\u001b[0m\u001b[1;33m\u001b[0m\u001b[1;33m\u001b[0m\u001b[0m\n\u001b[1;32m--> 111\u001b[1;33m             \u001b[1;32mreturn\u001b[0m \u001b[0mself\u001b[0m\u001b[1;33m.\u001b[0m\u001b[0m_sess\u001b[0m\u001b[1;33m.\u001b[0m\u001b[0mrun\u001b[0m\u001b[1;33m(\u001b[0m\u001b[0moutput_names\u001b[0m\u001b[1;33m,\u001b[0m \u001b[0minput_feed\u001b[0m\u001b[1;33m,\u001b[0m \u001b[0mrun_options\u001b[0m\u001b[1;33m)\u001b[0m\u001b[1;33m\u001b[0m\u001b[1;33m\u001b[0m\u001b[0m\n\u001b[0m\u001b[0;32m    112\u001b[0m         \u001b[1;32mexcept\u001b[0m \u001b[0mC\u001b[0m\u001b[1;33m.\u001b[0m\u001b[0mEPFail\u001b[0m \u001b[1;32mas\u001b[0m \u001b[0merr\u001b[0m\u001b[1;33m:\u001b[0m\u001b[1;33m\u001b[0m\u001b[1;33m\u001b[0m\u001b[0m\n\u001b[0;32m    113\u001b[0m             \u001b[1;32mif\u001b[0m \u001b[0mself\u001b[0m\u001b[1;33m.\u001b[0m\u001b[0m_enable_fallback\u001b[0m\u001b[1;33m:\u001b[0m\u001b[1;33m\u001b[0m\u001b[1;33m\u001b[0m\u001b[0m\n",
      "\u001b[1;31mInvalidArgument\u001b[0m: [ONNXRuntimeError] : 2 : INVALID_ARGUMENT : Got invalid dimensions for input: input.1 for the following indices\n index: 0 Got: 100 Expected: 1\n Please fix either the inputs or the model."
     ]
    }
   ],
   "source": [
    "session.run([session_output.name], {session_input.name: np.array(img_list).astype(\"float32\")})"
   ]
  },
  {
   "cell_type": "code",
   "execution_count": 46,
   "metadata": {},
   "outputs": [
    {
     "ename": "SyntaxError",
     "evalue": "invalid syntax (<ipython-input-46-2ce0119210d0>, line 5)",
     "output_type": "error",
     "traceback": [
      "\u001b[1;36m  File \u001b[1;32m\"<ipython-input-46-2ce0119210d0>\"\u001b[1;36m, line \u001b[1;32m5\u001b[0m\n\u001b[1;33m    np.array(img_list).astype(\"float32\"):\u001b[0m\n\u001b[1;37m                                         ^\u001b[0m\n\u001b[1;31mSyntaxError\u001b[0m\u001b[1;31m:\u001b[0m invalid syntax\n"
     ]
    }
   ],
   "source": [
    "\n",
    "BM = Benchmark(batch_size=1)\n",
    "\n",
    "def test():\n",
    "    with BM:\n",
    "        np.array(img_list).astype(\"float32\"):\n",
    "            i = i[None, ...]\n",
    "            pre = session.run([session_output.name], {session_input.name: i})\n",
    "    print(BM)\n",
    "#         pre = torch.tensor(pre[0], dtype=torch.float32)\n",
    "#         _, out = torch.max(pre, 1)\n",
    "#         pred.append(out.item())\n",
    "test()"
   ]
  },
  {
   "cell_type": "code",
   "execution_count": 48,
   "metadata": {},
   "outputs": [
    {
     "name": "stdout",
     "output_type": "stream",
     "text": [
      "Count:      100 iteration(s)\n",
      "Duration:   0:00:00.015280\n",
      "Latency:    135.60 us (150.99 us ± 49.95 us)\n",
      "Throughput: 7374.63 FPS\n"
     ]
    }
   ],
   "source": [
    "\n",
    "def test():\n",
    "    bm = Benchmark(out=False)\n",
    "    for i in np.array(img_list).astype(\"float32\"):\n",
    "        with bm:\n",
    "            i = i[None, ...]\n",
    "            pre = session.run([session_output.name], {session_input.name: i})\n",
    "    print(bm)\n",
    "    # 推論実行 \n",
    "test()"
   ]
  },
  {
   "cell_type": "code",
   "execution_count": 105,
   "metadata": {},
   "outputs": [],
   "source": [
    "pred = np.array(pred)\n",
    "label = np.array(label_list)"
   ]
  },
  {
   "cell_type": "code",
   "execution_count": null,
   "metadata": {},
   "outputs": [],
   "source": []
  },
  {
   "cell_type": "code",
   "execution_count": 137,
   "metadata": {},
   "outputs": [],
   "source": [
    "import os\n",
    "import cv2\n",
    "import sys\n",
    "import numpy as np\n",
    "from PIL import Image"
   ]
  },
  {
   "cell_type": "code",
   "execution_count": 80,
   "metadata": {},
   "outputs": [
    {
     "data": {
      "image/png": "[encoded data removed]",
      "text/plain": [
       "<PIL.Image.Image image mode=RGBA size=28x28 at 0x7F12183364D0>"
      ]
     },
     "execution_count": 80,
     "metadata": {},
     "output_type": "execute_result"
    }
   ],
   "source": [
    "img = Image.open(\"data/tests/25784885.png\").resize((28, 28)).convert('RGBA')\n",
    "img"
   ]
  },
  {
   "cell_type": "code",
   "execution_count": 81,
   "metadata": {},
   "outputs": [],
   "source": [
    "r, g, b, a = img.split()\n",
    "img = np.asarray(a)"
   ]
  },
  {
   "cell_type": "code",
   "execution_count": 82,
   "metadata": {},
   "outputs": [],
   "source": [
    "image = img"
   ]
  },
  {
   "cell_type": "code",
   "execution_count": 83,
   "metadata": {},
   "outputs": [],
   "source": [
    "inputs = torch.tensor(image, dtype=torch.float32)"
   ]
  },
  {
   "cell_type": "code",
   "execution_count": 84,
   "metadata": {},
   "outputs": [
    {
     "data": {
      "text/plain": [
       "torch.Size([28, 28])"
      ]
     },
     "execution_count": 84,
     "metadata": {},
     "output_type": "execute_result"
    }
   ],
   "source": [
    "inputs.shape"
   ]
  },
  {
   "cell_type": "code",
   "execution_count": 94,
   "metadata": {},
   "outputs": [
    {
     "data": {
      "text/plain": [
       "Net(\n",
       "  (cnn1): Sequential(\n",
       "    (0): Conv2d(1, 32, kernel_size=(3, 3), stride=(1, 1))\n",
       "    (1): ReLU()\n",
       "    (2): Conv2d(32, 32, kernel_size=(3, 3), stride=(1, 1))\n",
       "    (3): ReLU()\n",
       "    (4): MaxPool2d(kernel_size=(2, 2), stride=2, padding=0, dilation=1, ceil_mode=False)\n",
       "    (5): Dropout2d(p=0.2, inplace=False)\n",
       "  )\n",
       "  (cnn2): Sequential(\n",
       "    (0): Conv2d(32, 64, kernel_size=(3, 3), stride=(1, 1))\n",
       "    (1): ReLU()\n",
       "    (2): Conv2d(64, 64, kernel_size=(3, 3), stride=(1, 1))\n",
       "    (3): ReLU()\n",
       "    (4): MaxPool2d(kernel_size=(2, 2), stride=2, padding=0, dilation=1, ceil_mode=False)\n",
       "    (5): Dropout2d(p=0.25, inplace=False)\n",
       "  )\n",
       "  (cnn3): Sequential(\n",
       "    (0): Conv2d(64, 128, kernel_size=(3, 3), stride=(1, 1))\n",
       "    (1): ReLU()\n",
       "    (2): Dropout2d(p=0.25, inplace=False)\n",
       "  )\n",
       "  (fc): Sequential(\n",
       "    (0): Linear(in_features=512, out_features=128, bias=True)\n",
       "    (1): BatchNorm1d(128, eps=1e-05, momentum=0.1, affine=True, track_running_stats=True)\n",
       "    (2): Dropout(p=0.5, inplace=False)\n",
       "    (3): Linear(in_features=128, out_features=10, bias=True)\n",
       "  )\n",
       ")"
      ]
     },
     "execution_count": 94,
     "metadata": {},
     "output_type": "execute_result"
    }
   ],
   "source": [
    "model = Net()\n",
    "model.load_state_dict(torch.load(\"./model/mnist_cnn.pth\"))\n",
    "model.to('cuda')"
   ]
  },
  {
   "cell_type": "code",
   "execution_count": 86,
   "metadata": {},
   "outputs": [],
   "source": [
    "inputs = test_transform(image)\n",
    "inputs = inputs[None, ...]\n",
    "inputs = inputs.to('cuda')"
   ]
  },
  {
   "cell_type": "code",
   "execution_count": 87,
   "metadata": {},
   "outputs": [
    {
     "name": "stderr",
     "output_type": "stream",
     "text": [
      "/opt/conda/lib/python3.7/site-packages/ipykernel_launcher.py:63: UserWarning: Implicit dimension choice for softmax has been deprecated. Change the call to include dim=X as an argument.\n"
     ]
    }
   ],
   "source": [
    "model.eval()\n",
    "output = model(inputs)"
   ]
  },
  {
   "cell_type": "code",
   "execution_count": 88,
   "metadata": {},
   "outputs": [],
   "source": [
    "_, predicted = torch.max(output.data, 1)"
   ]
  },
  {
   "cell_type": "code",
   "execution_count": 89,
   "metadata": {},
   "outputs": [
    {
     "data": {
      "text/plain": [
       "7"
      ]
     },
     "execution_count": 89,
     "metadata": {},
     "output_type": "execute_result"
    }
   ],
   "source": [
    "predicted.item()"
   ]
  },
  {
   "cell_type": "code",
   "execution_count": 29,
   "metadata": {},
   "outputs": [
    {
     "ename": "ModuleNotFoundError",
     "evalue": "No module named 'cv2'",
     "output_type": "error",
     "traceback": [
      "\u001b[1;31m---------------------------------------------------------------------------\u001b[0m",
      "\u001b[1;31mModuleNotFoundError\u001b[0m                       Traceback (most recent call last)",
      "\u001b[1;32m<ipython-input-29-51c1aa294073>\u001b[0m in \u001b[0;36m<module>\u001b[1;34m\u001b[0m\n\u001b[0;32m      1\u001b[0m \u001b[1;32mimport\u001b[0m \u001b[0mos\u001b[0m\u001b[1;33m,\u001b[0m \u001b[0msys\u001b[0m\u001b[1;33m\u001b[0m\u001b[1;33m\u001b[0m\u001b[0m\n\u001b[1;32m----> 2\u001b[1;33m \u001b[1;32mimport\u001b[0m \u001b[0mcv2\u001b[0m\u001b[1;33m\u001b[0m\u001b[1;33m\u001b[0m\u001b[0m\n\u001b[0m\u001b[0;32m      3\u001b[0m \u001b[1;32mimport\u001b[0m \u001b[0mmatplotlib\u001b[0m\u001b[1;33m.\u001b[0m\u001b[0mpyplot\u001b[0m \u001b[1;32mas\u001b[0m \u001b[0mplt\u001b[0m\u001b[1;33m\u001b[0m\u001b[1;33m\u001b[0m\u001b[0m\n\u001b[0;32m      4\u001b[0m \u001b[0mget_ipython\u001b[0m\u001b[1;33m(\u001b[0m\u001b[1;33m)\u001b[0m\u001b[1;33m.\u001b[0m\u001b[0mrun_line_magic\u001b[0m\u001b[1;33m(\u001b[0m\u001b[1;34m'matplotlib'\u001b[0m\u001b[1;33m,\u001b[0m \u001b[1;34m'inline'\u001b[0m\u001b[1;33m)\u001b[0m\u001b[1;33m\u001b[0m\u001b[1;33m\u001b[0m\u001b[0m\n\u001b[0;32m      5\u001b[0m \u001b[1;33m\u001b[0m\u001b[0m\n",
      "\u001b[1;31mModuleNotFoundError\u001b[0m: No module named 'cv2'"
     ]
    }
   ],
   "source": [
    "import os, sys\n",
    "import cv2\n",
    "import matplotlib.pyplot as plt\n",
    "%matplotlib inline\n",
    "\n",
    "from torch.utils.data import Dataset\n",
    "import albumentations as albu\n",
    "\n",
    "\n",
    "IMG_DIR = '../訓練用画像/tranings/1/01798437.png'\n",
    "\n",
    "\n",
    "img = cv2.imread(IMG_DIR + 'image.jpg')\n",
    "img = cv2.cvtColor(img, cv2.COLOR_BGR2RGB)\n",
    "\n",
    "img_origin, = img.copy()\n",
    "\n",
    "fig, axes = plt.subplots(1, 2, figsize=(15, 6))\n",
    "axes[0].imshow(img)"
   ]
  },
  {
   "cell_type": "code",
   "execution_count": null,
   "metadata": {},
   "outputs": [],
   "source": []
  }
 ],
 "metadata": {
  "kernelspec": {
   "display_name": "Python 3",
   "language": "python",
   "name": "python3"
  },
  "language_info": {
   "codemirror_mode": {
    "name": "ipython",
    "version": 3
   },
   "file_extension": ".py",
   "mimetype": "text/x-python",
   "name": "python",
   "nbconvert_exporter": "python",
   "pygments_lexer": "ipython3",
   "version": "3.7.6"
  }
 },
 "nbformat": 4,
 "nbformat_minor": 4
}
